{
 "cells": [
  {
   "cell_type": "code",
   "execution_count": null,
   "metadata": {},
   "outputs": [],
   "source": [
    "import numpy as np\n",
    "import pandas as pd\n",
    "import scipy.linalg as sla\n",
    "import matplotlib.pyplot as plt\n",
    "\n",
    "from sklearn import datasets\n",
    "from sklearn.linear_model import LinearRegression, Lasso, Ridge"
   ]
  },
  {
   "cell_type": "markdown",
   "metadata": {},
   "source": [
    "**Регуляризация** -- это метод борьбы с переобучением, который штрафует модель за излишнюю сложность, что позволяет строить более простые (и потому стабильные) зависимости."
   ]
  },
  {
   "cell_type": "markdown",
   "metadata": {},
   "source": [
    "Еще одной проблемой, специфичной для линейных моделей, является **мультиколлинеарность**.Eсли оптимальных решений задачи минимизации оказывается бесконечно много, то коэффициенты модели могут принимать какие угодно огромные значения. **Вывод**: необходимо *ограничить величину* коэффициентов модели.\n",
    "\n",
    "Для линейной модели дополнительные ограничения на веса выполняют роль регуляризации.\n",
    "\n",
    "Функция потерь для линейной регрессии с регуляризацией выглядит следующим образом:\n",
    "$$L(\\mathbf{w}) = \\frac{1}{\\ell}\\sum_{i=1}^{\\ell}(\\langle \\mathbf{w} , x^i \\rangle - y^i)^2 + R(\\tilde{ \\mathbf{w}}) \\rightarrow \\min_{w}$$\n",
    "где $\\tilde {\\mathbf{w}} =  (w_1, \\ldots, w_n)$ --- вектор весов без свободного члена $w_0$.\n",
    "\n",
    "Последнее слагаемое определяет вид регуляризации.\n",
    "* $L_1$-регуляризация (LASSO, least absolute shrinkage and selection operator):\n",
    "$$R( \\mathbf{\\tilde w}) = \\lambda|| \\mathbf{\\tilde {w}}||_1 = \\lambda (|w_1| + \\ldots + |w_n|);$$\n",
    "* $L_2$-регуляризация (Ridge):\n",
    "$$R(\\tilde{ \\mathbf{w}}) = \\lambda||\\tilde{ \\mathbf{w}}||_2^2 = \\lambda(|w_1|^2 + \\ldots + |w_n|^2);$$\n",
    "* ElasticNet -- комбинация двух предыдущих:\n",
    " $$R(\\tilde{ \\mathbf{w}}) = \\alpha ||\\tilde{\\mathbf{w}}||_1+ \\beta ||\\tilde {\\mathbf{w}}||_2^2.$$\n",
    "\n"
   ]
  },
  {
   "cell_type": "markdown",
   "metadata": {},
   "source": [
    "## Lasso-регрессия\n",
    "\n",
    "В LASSO-регрессии штрафуем модель **на сумму модулей всех ее весов**.\n",
    "\n",
    "**Лосс:** $$L(\\mathbf{w}) = \\frac{1}{\\ell} ||X\\mathbf{w} - \\mathbf{y}||^2_2 + \\lambda ||\\tilde{\\mathbf{w}}||_1,$$ где $\\lambda$ -- гиперпараметр, отвечающий за степень регуляризации.\n",
    "\n",
    "В привычном понимании:\n",
    "\n",
    "**Лосс:** $$L(\\mathbf{w}) = \\frac{1}{\\ell}\\sum_{i=1}^{\\ell}\\left(\\sum_{j=0}^{n} x_{ij}w_j - y_i\\right)^2 + \\lambda\\sum_{j=1}^{n}|w_j|$$\n",
    "\n",
    "\n",
    "\n",
    "**Градиент:**\n",
    "$$\n",
    "\\frac{\\partial{L}}{\\partial{\\mathbf{w}}}\n",
    "= \\frac{2}{\\ell}\\cdot X^T(X\\mathbf{w} - \\mathbf{y}) + \\lambda (0, \\mathrm{sign}(w_1), \\ldots, \\mathrm{sign}(w_n))^T.\n",
    "$$"
   ]
  },
  {
   "cell_type": "code",
   "execution_count": null,
   "metadata": {},
   "outputs": [],
   "source": [
    "def soft_sign(x, eps=1e-7):\n",
    "    if abs(x) > eps:\n",
    "        return np.sign(x)\n",
    "    return x / eps\n",
    "\n",
    "np_soft_sign = np.vectorize(soft_sign)\n",
    "\n",
    "\n",
    "class MyLassoRegression(object):\n",
    "    def __init__(self, C=1):\n",
    "        self.coef_ = None\n",
    "        self.intercept_ = None\n",
    "        self.C = C\n",
    "\n",
    "    def regularization_term(self, weights):\n",
    "        signs =\n",
    "        signs[0] = 0 \n",
    "        return signs\n",
    "\n",
    "    def grad(self, X, y, weights):\n",
    "        y_pred = (X @ weights)  # [l, 1]\n",
    "\n",
    "        basic_term = \n",
    "\n",
    "        regularization_term = self.regularization_term(weights)\n",
    "\n",
    "        return basic_term + self.C * regularization_term \n",
    "\n",
    "\n",
    "    def fit(self, X, y, max_iter=100, lr=0.1):\n",
    "        X = np.array(X)\n",
    "        y = np.array(y)\n",
    "        assert len(y.shape) == 1 and len(X.shape) == 2\n",
    "        assert X.shape[0] == y.shape[0]\n",
    "\n",
    "        y = y[:, np.newaxis]\n",
    "\n",
    "        l, n = X.shape\n",
    "        X_train = np.hstack([np.ones([l, 1]), X])  # [ell, n + 1]\n",
    "\n",
    "        weights = np.random.randn(n + 1, 1)\n",
    "\n",
    "        losses = []\n",
    "\n",
    "        for iter_num in range(max_iter):\n",
    "            grad = self.grad(X_train, y, weights)\n",
    "            # update weights\n",
    "            weights -= grad * lr / ((iter_num + 1) ** 0.5)\n",
    "\n",
    "            loss = np.mean((X_train @ weights - y) ** 2) + self.C * np.sum(np.abs(weights[1:]))\n",
    "            losses.append(loss)\n",
    "\n",
    "        self.coef_ = weights[1:]\n",
    "        self.intercept_ = weights[0]\n",
    "\n",
    "        return losses\n",
    "\n",
    "\n",
    "    def predict(self, X):\n",
    "        X = np.array(X)\n",
    "        y_pred = X @ self.coef_ + self.intercept_\n",
    "\n",
    "        return y_pred"
   ]
  }
 ],
 "metadata": {
  "kernelspec": {
   "display_name": "ml",
   "language": "python",
   "name": "python3"
  },
  "language_info": {
   "codemirror_mode": {
    "name": "ipython",
    "version": 3
   },
   "file_extension": ".py",
   "mimetype": "text/x-python",
   "name": "python",
   "nbconvert_exporter": "python",
   "pygments_lexer": "ipython3",
   "version": "3.12.7"
  }
 },
 "nbformat": 4,
 "nbformat_minor": 2
}
